{
  "nbformat": 4,
  "nbformat_minor": 0,
  "metadata": {
    "colab": {
      "provenance": [],
      "toc_visible": true,
      "authorship_tag": "ABX9TyOFgPek6DA+tpW6D+Gg2kHz",
      "include_colab_link": true
    },
    "kernelspec": {
      "name": "python3",
      "display_name": "Python 3"
    },
    "language_info": {
      "name": "python"
    }
  },
  "cells": [
    {
      "cell_type": "markdown",
      "metadata": {
        "id": "view-in-github",
        "colab_type": "text"
      },
      "source": [
        "<a href=\"https://colab.research.google.com/github/Puthalir/Puthalir.github.io/blob/main/Day_1%262.ipynb\" target=\"_parent\"><img src=\"https://colab.research.google.com/assets/colab-badge.svg\" alt=\"Open In Colab\"/></a>"
      ]
    },
    {
      "cell_type": "code",
      "execution_count": null,
      "metadata": {
        "id": "GYlNSXkwsOk7"
      },
      "outputs": [],
      "source": []
    },
    {
      "cell_type": "markdown",
      "source": [
        "probability mass function"
      ],
      "metadata": {
        "id": "LtLsYDbssnUP"
      }
    },
    {
      "cell_type": "code",
      "source": [
        "\n",
        "# Total films\n",
        "total = 50\n",
        "\n",
        "# Film counts\n",
        "hits = 35\n",
        "awards = 28\n",
        "both = 18\n",
        "neither = 5\n",
        "\n",
        "# Calculations\n",
        "missed_hit = total - hits\n",
        "either = hits + awards - both  # Union of hits and awards\n",
        "\n",
        "# Probabilities\n",
        "print(\"a) Had a successful hit:\", hits / total)\n",
        "print(\"b) Missed out on a hit:\", missed_hit / total)\n",
        "print(\"c) Was both a hit and won an award:\", both / total)\n",
        "print(\"d) Was neither a hit nor won an award:\", neither / total)\n",
        "print(\"e) Was either a hit or won an award:\", either / total)\n",
        "\n"
      ],
      "metadata": {
        "colab": {
          "base_uri": "https://localhost:8080/"
        },
        "id": "SGOhJ-_CsvVw",
        "outputId": "7371234a-d86f-43df-afae-a8d3901392d2"
      },
      "execution_count": null,
      "outputs": [
        {
          "output_type": "stream",
          "name": "stdout",
          "text": [
            "a) Had a successful hit: 0.7\n",
            "b) Missed out on a hit: 0.3\n",
            "c) Was both a hit and won an award: 0.36\n",
            "d) Was neither a hit nor won an award: 0.1\n",
            "e) Was either a hit or won an award: 0.9\n"
          ]
        }
      ]
    },
    {
      "cell_type": "code",
      "source": [
        "pip install requests beautifulsoup4\n"
      ],
      "metadata": {
        "colab": {
          "base_uri": "https://localhost:8080/"
        },
        "id": "smeqnSTFjiGE",
        "outputId": "1c78a7db-b05f-4e54-e28f-67756f122213"
      },
      "execution_count": null,
      "outputs": [
        {
          "output_type": "stream",
          "name": "stdout",
          "text": [
            "Requirement already satisfied: requests in /usr/local/lib/python3.11/dist-packages (2.32.3)\n",
            "Requirement already satisfied: beautifulsoup4 in /usr/local/lib/python3.11/dist-packages (4.13.4)\n",
            "Requirement already satisfied: charset-normalizer<4,>=2 in /usr/local/lib/python3.11/dist-packages (from requests) (3.4.1)\n",
            "Requirement already satisfied: idna<4,>=2.5 in /usr/local/lib/python3.11/dist-packages (from requests) (3.10)\n",
            "Requirement already satisfied: urllib3<3,>=1.21.1 in /usr/local/lib/python3.11/dist-packages (from requests) (2.4.0)\n",
            "Requirement already satisfied: certifi>=2017.4.17 in /usr/local/lib/python3.11/dist-packages (from requests) (2025.4.26)\n",
            "Requirement already satisfied: soupsieve>1.2 in /usr/local/lib/python3.11/dist-packages (from beautifulsoup4) (2.7)\n",
            "Requirement already satisfied: typing-extensions>=4.0.0 in /usr/local/lib/python3.11/dist-packages (from beautifulsoup4) (4.13.2)\n"
          ]
        }
      ]
    },
    {
      "cell_type": "markdown",
      "source": [
        "Scraping the Greeks' page data\n",
        "\n"
      ],
      "metadata": {
        "id": "I8kZ8APzqqqW"
      }
    },
    {
      "cell_type": "code",
      "source": [
        "import requests\n",
        "from bs4 import BeautifulSoup\n",
        "\n",
        "# Target URL\n",
        "url = \"https://www.geeksforgeeks.org/python-oops-concepts/\"\n",
        "\n",
        "# Send the HTTP request\n",
        "response = requests.get(url)\n",
        "soup = BeautifulSoup(response.text, 'html.parser')\n",
        "\n",
        "# Try finding the main content by using the article tag\n",
        "article = soup.find('article')\n",
        "\n",
        "# Safety check\n",
        "if article:\n",
        "    # Extract headings h1, h2, h3 inside the article\n",
        "    for heading in article.find_all(['h1', 'h2', 'h3','h4']):\n",
        "        print(f\"{heading.name.upper()}: {heading.text.strip()}\")\n",
        "else:\n",
        "    print(\"Could not find article content.\")\n"
      ],
      "metadata": {
        "colab": {
          "base_uri": "https://localhost:8080/"
        },
        "id": "8PKxwTEqi1fs",
        "outputId": "b394e6a6-a2eb-4b37-c285-448111ac40ac"
      },
      "execution_count": null,
      "outputs": [
        {
          "output_type": "stream",
          "name": "stdout",
          "text": [
            "H1: Python OOPs Concepts\n",
            "H2: OOPs Concepts in Python\n",
            "H2: Python Class\n",
            "H3: Creating a Class\n",
            "H2: Python Objects\n",
            "H3: Creating Object\n",
            "H3: Self Parameter\n",
            "H3: __init__ Method\n",
            "H3: Class and Instance Variables\n",
            "H2: Python Inheritance\n",
            "H3: Types of Inheritance:\n",
            "H2: Python Polymorphism\n",
            "H3: Types of Polymorphism\n",
            "H3: Code Example:\n",
            "H2: Python Encapsulation\n",
            "H3: Types of Encapsulation:\n",
            "H3: Code Example:\n",
            "H2: Data Abstraction\n",
            "H3: Types of Abstraction:\n",
            "H3: Code Example:\n",
            "H3: OOPs Quiz:\n",
            "H3: Related Articles:\n",
            "H3: Recommended Problems:\n"
          ]
        }
      ]
    },
    {
      "cell_type": "markdown",
      "source": [],
      "metadata": {
        "id": "yYuLzIf01wik"
      }
    },
    {
      "cell_type": "code",
      "source": [
        "# prompt: generate a dataset for bell curve for binomial distribution\n",
        "\n",
        "import numpy as np\n",
        "import matplotlib.pyplot as plt\n",
        "from scipy.stats import binom\n",
        "\n",
        "# Parameters for the binomial distribution\n",
        "n = 10  # Number of trials\n",
        "p = 0.5  # Probability of success\n",
        "\n",
        "# Generate the dataset\n",
        "x = np.arange(0, n + 1)\n",
        "y = binom.pmf(x, n, p)\n",
        "\n",
        "# Plot the bell curve\n",
        "plt.plot(x, y, 'o-')\n",
        "plt.title('Binomial Distribution')\n",
        "plt.xlabel('Number of Successes')\n",
        "plt.ylabel('Probability')\n",
        "plt.grid(True)\n",
        "plt.show()\n"
      ],
      "metadata": {
        "colab": {
          "base_uri": "https://localhost:8080/",
          "height": 472
        },
        "id": "lC4agMil1wO0",
        "outputId": "81ae6f1b-ca11-4568-a3dc-bbdb4556e982"
      },
      "execution_count": null,
      "outputs": [
        {
          "output_type": "display_data",
          "data": {
            "text/plain": [
              "<Figure size 640x480 with 1 Axes>"
            ],
            "image/png": "[encoded data removed]"
          },
          "metadata": {}
        }
      ]
    },
    {
      "cell_type": "code",
      "source": [],
      "metadata": {
        "id": "s-x34Pfz2GIz"
      },
      "execution_count": null,
      "outputs": []
    },
    {
      "cell_type": "code",
      "source": [],
      "metadata": {
        "id": "fALddpR123IL"
      },
      "execution_count": null,
      "outputs": []
    }
  ]
}